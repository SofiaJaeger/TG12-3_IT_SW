{
 "cells": [
  {
   "cell_type": "markdown",
   "metadata": {},
   "source": [
    "# Grundlagen Netzwerke\n",
    "\n",
    "## Ziel\n",
    "\n",
    "Ich kann\n",
    "\n",
    "- die Verbindungen von Client und Server beschreiben\n",
    "\n",
    "## Einführung in Netzwerke\n",
    "\n",
    "Ein Netzwerk besteht aus mehreren Computern, die miteinander verbunden sind, um Daten auszutauschen.\n",
    "\n",
    "-\tBeispiele: LAN, WAN, Internet\n",
    "\n",
    "## Client-Server-Modell\n",
    "\n",
    "-\tClient: Ein Gerät oder Programm, das eine Anfrage stellt (z.B. Webbrowser).\n",
    "\n",
    "-\tServer: Ein Gerät oder Programm, das auf Anfragen reagiert und Dienste bereitstellt (z.B. Webserver).\n",
    "\n",
    "![Bild 1](bilder/client-server.jpg)\n",
    "\n",
    "## IP-Adressen und Ports\n",
    "\n",
    "-\tIP-Adresse: Eine eindeutige Adresse, die ein Gerät in einem Netzwerk identifiziert.\n",
    "\n",
    "-\tPort: Ein logischer Zugangspunkt zur Kommunikation über ein Netzwerk.\n",
    "\n",
    "-\tBeispiele: HTTP (Port 80), HTTPS (Port 443).\n",
    "\n",
    "![Bild 2](bilder/ip+port.png)\n",
    "\n",
    "## Domain-Name\n",
    "Im Internet verwenden wir Domainnamen wie www.schule.de anstelle von numerischen IP-Adressen wie 192.0.2.1, da sie für Menschen deutlich leichter zu merken und zu handhaben sind. Namen lassen sich intuitiver erfassen als Zahlenfolgen, insbesondere bei der täglichen Nutzung von Webseiten und Online-Diensten.\n",
    "\n",
    "Damit der Computer dennoch weiß, welche IP-Adresse sich hinter einem Domainnamen verbirgt, wird das sogenannte Domain Name System (DNS) eingesetzt. Es übernimmt die Aufgabe, Namen in IP-Adressen aufzulösen, ähnlich wie ein digitales Telefonbuch:\n",
    "\t1.\tDer Benutzer gibt einen Domainnamen in den Browser ein.\n",
    "\t2.\tEine Anfrage wird an einen DNS-Server gesendet.\n",
    "\t3.\tDer DNS-Server antwortet mit der zugehörigen IP-Adresse.\n",
    "\t4.\tErst dann kann eine Verbindung zum eigentlichen Server aufgebaut werden.\n",
    "\n",
    "Dieses System bildet eine zentrale Grundlage für die Funktionalität und Benutzerfreundlichkeit des Internets.\n",
    "\n",
    "### Domain-Name 'localhost'\n",
    "Der Begriff „localhost“ bezeichnet in der Netzwerktechnik den eigenen Rechner – also das lokale System, auf dem ein Programm oder Dienst gerade ausgeführt wird. Er dient dazu, Netzwerkverbindungen innerhalb desselben Geräts herzustellen, ohne dass Daten über ein externes Netzwerk übertragen werden.\n",
    "\n",
    "Technisch ist „localhost“ fest mit der IPv4-Adresse 127.0.0.1 verknüpft. Diese Adresse ist reserviert und verweist stets auf das lokale Gerät selbst – unabhängig von dessen tatsächlicher Netzwerkverbindung.\n",
    "\n",
    "Ein häufiges Einsatzgebiet von „localhost“ ist die Entwicklung und das Testen von Server-Anwendungen: Entwickler können z. B. einen lokalen Webserver starten und über http://localhost:8000 im Browser auf diesen zugreifen, ohne eine Verbindung ins Internet herzustellen.\n",
    "\n",
    "## Sockets\n",
    "\n",
    "### Definition (Socket)\n",
    "\n",
    "Ein Socket ist ein Endpunkt der bidirektionalen Kommunikation zwischen zwei Programmen, die über ein Netzwerk verbunden sind.\n",
    "\n",
    "### Beispiele\n",
    "\n",
    "- TCP vs. UDP:\n",
    "  \n",
    " - TCP (Transmission Control Protocol): Verbindungsorientiert, zuverlässig (z.B. für Web, E-Mail).\n",
    "\n",
    " - UDP (User Datagram Protocol): Verbindungslos, schneller, aber weniger zuverlässig (z.B. für Videostreaming, Gaming).\n",
    "\n",
    "### Ablauf der Kommunikation über Sockets\n",
    "\n",
    "1.\tSocket erstellen.\n",
    "\n",
    "\t2.\tVerbindung aufbauen (bei TCP).\n",
    "\n",
    "\t3.\tDaten senden/empfangen.\n",
    "\t\n",
    "\t4.\tVerbindung schließen.\n",
    "\n",
    "- Beispiel-Szenario: Ein Client sendet eine Nachricht an einen Server, der Server antwortet.\n",
    "\n",
    "\n",
    "## Beispiel: Client-Server-Kommunikation zwischen zwei python-Programmen\n",
    "\n",
    "Ziel: Ein einfaches Chat-Programm erstellen, bei dem ein Server auf Nachrichten von Clients wartet und antwortet.\n",
    "\n",
    "\n",
    "###\tServer-Programm (Python):\n"
   ]
  },
  {
   "cell_type": "markdown",
   "metadata": {},
   "source": [
    "1. Installiere das Package Flask (falls noch nicht installiert) mit dem Befehl:"
   ]
  },
  {
   "cell_type": "code",
   "execution_count": 1,
   "metadata": {
    "vscode": {
     "languageId": "shellscript"
    }
   },
   "outputs": [
    {
     "name": "stdout",
     "output_type": "stream",
     "text": [
      "Traceback (most recent call last):\n",
      "  File \"<frozen runpy>\", line 198, in _run_module_as_main\n",
      "  File \"<frozen runpy>\", line 88, in _run_code\n",
      "  File \"/usr/local/python/3.12.1/lib/python3.12/site-packages/pip/__main__.py\", line 24, in <module>\n",
      "    sys.exit(_main())\n",
      "             ^^^^^^^\n",
      "  File \"/usr/local/python/3.12.1/lib/python3.12/site-packages/pip/_internal/cli/main.py\", line 77, in main\n",
      "    command = create_command(cmd_name, isolated=(\"--isolated\" in cmd_args))\n",
      "              ^^^^^^^^^^^^^^^^^^^^^^^^^^^^^^^^^^^^^^^^^^^^^^^^^^^^^^^^^^^^^\n",
      "  File \"/usr/local/python/3.12.1/lib/python3.12/site-packages/pip/_internal/commands/__init__.py\", line 119, in create_command\n",
      "    module = importlib.import_module(module_path)\n",
      "             ^^^^^^^^^^^^^^^^^^^^^^^^^^^^^^^^^^^^\n",
      "  File \"/usr/local/python/3.12.1/lib/python3.12/importlib/__init__.py\", line 90, in import_module\n",
      "    return _bootstrap._gcd_import(name[level:], package, level)\n",
      "           ^^^^^^^^^^^^^^^^^^^^^^^^^^^^^^^^^^^^^^^^^^^^^^^^^^^^\n",
      "  File \"<frozen importlib._bootstrap>\", line 1387, in _gcd_import\n",
      "  File \"<frozen importlib._bootstrap>\", line 1360, in _find_and_load\n",
      "  File \"<frozen importlib._bootstrap>\", line 1331, in _find_and_load_unlocked\n",
      "  File \"<frozen importlib._bootstrap>\", line 935, in _load_unlocked\n",
      "  File \"<frozen importlib._bootstrap_external>\", line 994, in exec_module\n",
      "  File \"<frozen importlib._bootstrap>\", line 488, in _call_with_frames_removed\n",
      "  File \"/usr/local/python/3.12.1/lib/python3.12/site-packages/pip/_internal/commands/install.py\", line 11, in <module>\n",
      "    from pip._vendor.requests.exceptions import InvalidProxyURL\n",
      "  File \"/usr/local/python/3.12.1/lib/python3.12/site-packages/pip/_vendor/requests/__init__.py\", line 43, in <module>\n",
      "    from pip._vendor import urllib3\n",
      "  File \"/usr/local/python/3.12.1/lib/python3.12/site-packages/pip/_vendor/urllib3/__init__.py\", line 12, in <module>\n",
      "    from ._version import __version__\n",
      "  File \"<frozen importlib._bootstrap>\", line 1360, in _find_and_load\n",
      "  File \"<frozen importlib._bootstrap>\", line 1331, in _find_and_load_unlocked\n",
      "  File \"<frozen importlib._bootstrap>\", line 935, in _load_unlocked\n",
      "  File \"<frozen importlib._bootstrap_external>\", line 990, in exec_module\n",
      "  File \"<frozen importlib._bootstrap_external>\", line 1086, in get_code\n",
      "  File \"<frozen importlib._bootstrap_external>\", line 1186, in get_data\n",
      "KeyboardInterrupt\n",
      "^C\n",
      "Note: you may need to restart the kernel to use updated packages.\n"
     ]
    }
   ],
   "source": [
    "pip install flask"
   ]
  },
  {
   "cell_type": "markdown",
   "metadata": {},
   "source": [
    "2. Erstelle das **Python-Modul** namens `server.py`."
   ]
  },
  {
   "cell_type": "code",
   "execution_count": null,
   "metadata": {},
   "outputs": [
    {
     "name": "stdout",
     "output_type": "stream",
     "text": [
      " * Serving Flask app '__main__'\n",
      " * Debug mode: off\n"
     ]
    },
    {
     "name": "stderr",
     "output_type": "stream",
     "text": [
      "WARNING: This is a development server. Do not use it in a production deployment. Use a production WSGI server instead.\n",
      " * Running on all addresses (0.0.0.0)\n",
      " * Running on http://127.0.0.1:12345\n",
      " * Running on http://10.0.2.186:12345\n",
      "Press CTRL+C to quit\n"
     ]
    }
   ],
   "source": [
    "from flask import Flask, request, jsonify\n",
    "\n",
    "app = Flask(__name__)               #__name__ ist der Dateiname\n",
    "\n",
    "# Route für die Hauptseite\n",
    "@app.route('/')\n",
    "def home():\n",
    "    return \"Server ist bereit und wartet auf Anfragen.\"\n",
    "\n",
    "# Route zum Empfangen von Nachrichten\n",
    "@app.route('/message', methods=['POST'])\n",
    "def handle_message():\n",
    "    data = request.json\n",
    "    message = data.get('message', '')\n",
    "    print(f\"Empfangen: {message}\")\n",
    "    response_message = f\"Echo: {message}\"\n",
    "    return jsonify({\"response\": response_message})\n",
    "\n",
    "if __name__ == '__main__':\n",
    "    app.run(host='0.0.0.0', port=12345)  # Server starten"
   ]
  },
  {
   "cell_type": "markdown",
   "metadata": {},
   "source": [
    "Erklärung\n",
    "- Mit `@app.route('/')` richtet man ein, dass der Server bei Aufruf von `127.0.0.1:12345/` die nachfolgende Methode aufruft. Der Rückgabewert der Methode wird an den Client gesendet.\n",
    "- Mit `@app.route('/profil')` richtet man eine weitere Route mit einer weiteren Methode ein. `(127.0.0.1:12345/profil)`\n",
    "- Mit dem optionalen Parameter `methods` = ['POST'] wird festgelegt, dass die Methode zusätzlich Daten erhält. Diese liegen im JSON-Format bereit."
   ]
  },
  {
   "cell_type": "markdown",
   "metadata": {},
   "source": [
    "3. Starte den Server mit:"
   ]
  },
  {
   "cell_type": "code",
   "execution_count": null,
   "metadata": {
    "vscode": {
     "languageId": "shellscript"
    }
   },
   "outputs": [
    {
     "ename": "SyntaxError",
     "evalue": "invalid syntax (1844671133.py, line 1)",
     "output_type": "error",
     "traceback": [
      "  \u001b[36mCell\u001b[39m\u001b[36m \u001b[39m\u001b[32mIn[3]\u001b[39m\u001b[32m, line 1\u001b[39m\n\u001b[31m    \u001b[39m\u001b[31mpython server.py\u001b[39m\n           ^\n\u001b[31mSyntaxError\u001b[39m\u001b[31m:\u001b[39m invalid syntax\n"
     ]
    }
   ],
   "source": [
    "python server.py"
   ]
  },
  {
   "cell_type": "markdown",
   "metadata": {},
   "source": [
    "#### Erklärung:\n",
    "\n",
    "-\tDer Server läuft auf localhost und Port 12345.\n",
    "\n",
    "-\tDie Route /message akzeptiert POST-Anfragen mit JSON-Daten.\n",
    "\n",
    "-\tDer Server empfängt eine Nachricht, verarbeitet sie, und sendet eine Antwort im JSON-Format zurück.\n",
    "\n",
    "\n",
    "###\tClient-Programm (Python):\n",
    "\n",
    "Der Client sendet eine Nachricht an den Flask-Server und empfängt die Antwort."
   ]
  },
  {
   "cell_type": "markdown",
   "metadata": {},
   "source": [
    "1. Erstelle das **Python-Modul** namens `client.py`."
   ]
  },
  {
   "cell_type": "code",
   "execution_count": null,
   "metadata": {},
   "outputs": [],
   "source": [
    "import requests\n",
    "\n",
    "# Server-URL\n",
    "server_url = 'http://localhost:12345/message'\n",
    "\n",
    "while True:\n",
    "    # Nachricht vom Benutzer eingeben\n",
    "    message = input(\"Nachricht an den Server: \")\n",
    "    # Nachricht an den Server senden\n",
    "    response = requests.post(server_url, json={\"message\": message})\n",
    "    # Antwort vom Server anzeigen\n",
    "    if response.status_code == 200:\n",
    "        data = response.json()\n",
    "        print(f\"Antwort vom Server: {data['response']}\")\n",
    "    else:\n",
    "        print(\"Fehler bei der Anfrage:\", response.status_code)"
   ]
  },
  {
   "cell_type": "markdown",
   "metadata": {},
   "source": [
    "2. Starte den Client mit:"
   ]
  },
  {
   "cell_type": "code",
   "execution_count": null,
   "metadata": {
    "vscode": {
     "languageId": "shellscript"
    }
   },
   "outputs": [],
   "source": [
    "python client.py"
   ]
  },
  {
   "cell_type": "markdown",
   "metadata": {},
   "source": [
    "####\tErklärung:\n",
    "\n",
    "-\tDer Client sendet eine POST-Anfrage an den Flask-Server mit der eingegebenen Nachricht als JSON-Daten.\n",
    "\n",
    "-\tDer Server antwortet mit einer Nachricht, die der Client anzeigt.\n"
   ]
  }
 ],
 "metadata": {
  "kernelspec": {
   "display_name": "Python 3",
   "language": "python",
   "name": "python3"
  },
  "language_info": {
   "codemirror_mode": {
    "name": "ipython",
    "version": 3
   },
   "file_extension": ".py",
   "mimetype": "text/x-python",
   "name": "python",
   "nbconvert_exporter": "python",
   "pygments_lexer": "ipython3",
   "version": "3.12.1"
  }
 },
 "nbformat": 4,
 "nbformat_minor": 2
}
